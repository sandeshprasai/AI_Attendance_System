import cv2
import numpy as np
import os
from pathlib import Path
from tqdm import tqdm

# Base directories
base_dir = r"D:\Final_Semester_Project\AI_Attendance_System\AI_And_ML_Model\data"
input_dir = os.path.join(base_dir, "processed")
output_dir = os.path.join(base_dir, "normalized")

# Create output base directory if not exists
os.makedirs(output_dir, exist_ok=True)

# Valid image extensions
valid_ext = [".jpg", ".jpeg", ".png", ".bmp", ".tiff"]

def normalize_image(img):
    """Normalize image pixels to range [0,1]"""
    img_float = img.astype(np.float32)
    normalized = (img_float - img_float.min()) / (img_float.max() - img_float.min() + 1e-8)
    return normalized

def save_normalized_image(image, path, original_extension):
    """Save normalized image with original extension"""
    if original_extension.lower() in ['.jpg', '.jpeg']:
        # For JPEG, scale back to 0-255 range and save as uint8
        image_uint8 = (image * 255).astype(np.uint8)
        cv2.imwrite(path, image_uint8, [cv2.IMWRITE_JPEG_QUALITY, 95])
    elif original_extension.lower() in ['.png']:
        # For PNG, we can save as 16-bit to preserve precision
        image_uint16 = (image * 65535).astype(np.uint16)
        cv2.imwrite(path, image_uint16)
    elif original_extension.lower() in ['.bmp']:
        # For BMP, scale back to 0-255 range
        image_uint8 = (image * 255).astype(np.uint8)
        cv2.imwrite(path, image_uint8)
    elif original_extension.lower() in ['.tiff', '.tif']:
        # For TIFF, we can save as float32 directly
        cv2.imwrite(path, image.astype(np.float32))
    else:
        # Default: save as PNG
        image_uint16 = (image * 65535).astype(np.uint16)
        cv2.imwrite(path, image_uint16)

# Collect all image paths
all_images = []
for root, _, files in os.walk(input_dir):
    for file in files:
        file_ext = Path(file).suffix.lower()
        if file_ext in valid_ext:
            all_images.append((os.path.join(root, file), file_ext))

# Process images with progress bar
for input_path, original_ext in tqdm(all_images, desc="Normalizing images", unit="image"):
    # Read image
    image = cv2.imread(input_path, cv2.IMREAD_UNCHANGED)
    if image is None:
        continue
    
    # Normalize
    normalized_image = normalize_image(image)
    
    # Build output path (preserve original extension)
    relative_path = os.path.relpath(os.path.dirname(input_path), input_dir)
    output_subdir = os.path.join(output_dir, relative_path)
    os.makedirs(output_subdir, exist_ok=True)
    
    output_file = Path(input_path).stem + original_ext
    output_path = os.path.join(output_subdir, output_file)
    
    # Save normalized image with original extension
    save_normalized_image(normalized_image, output_path, original_ext)
