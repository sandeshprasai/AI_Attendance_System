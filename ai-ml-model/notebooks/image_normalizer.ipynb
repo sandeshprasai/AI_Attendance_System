{
 "cells": [
  {
   "cell_type": "code",
   "execution_count": 3,
   "id": "21bf96ab",
   "metadata": {},
   "outputs": [
    {
     "name": "stdout",
     "output_type": "stream",
     "text": [
      "Before normalization - min: 0.0 max: 255.0\n",
      "After normalization  - min: 0.0 max: 1.0\n"
     ]
    }
   ],
   "source": [
    "import cv2\n",
    "import numpy as np\n",
    "\n",
    "# Read image (keep original depth)\n",
    "image = cv2.imread(\"image.jpeg\", cv2.IMREAD_UNCHANGED)\n",
    "\n",
    "# Convert to float32 for safe division\n",
    "image_float = image.astype(np.float32)\n",
    "\n",
    "# Normalize dynamically to [0,1]\n",
    "normalized_image = (image_float - image_float.min()) / (image_float.max() - image_float.min())\n",
    "\n",
    "print(\"Before normalization - min:\", image_float.min(), \"max:\", image_float.max())\n",
    "print(\"After normalization  - min:\", normalized_image.min(), \"max:\", normalized_image.max())\n",
    "\n",
    "# Show original (scaled for display if needed)\n",
    "if image_float.max() > 255:  \n",
    "    # scale 16-bit to 8-bit just for viewing\n",
    "    display_original = (image_float / image_float.max() * 255).astype(np.uint8)\n",
    "else:\n",
    "    display_original = image.astype(np.uint8)\n",
    "\n",
    "# Show normalized image (scaled back to [0,255] just for viewing)\n",
    "display_normalized = (normalized_image * 255).astype(np.uint8)\n",
    "\n",
    "cv2.imshow(\"Original Image\", display_original)\n",
    "cv2.imshow(\"Normalized Image [0-1]\", display_normalized)\n",
    "\n",
    "cv2.waitKey(0)\n",
    "cv2.destroyAllWindows()\n"
   ]
  },
  {
   "cell_type": "code",
   "execution_count": null,
   "id": "5bba3433",
   "metadata": {},
   "outputs": [],
   "source": []
  }
 ],
 "metadata": {
  "kernelspec": {
   "display_name": "base",
   "language": "python",
   "name": "python3"
  },
  "language_info": {
   "codemirror_mode": {
    "name": "ipython",
    "version": 3
   },
   "file_extension": ".py",
   "mimetype": "text/x-python",
   "name": "python",
   "nbconvert_exporter": "python",
   "pygments_lexer": "ipython3",
   "version": "3.13.5"
  }
 },
 "nbformat": 4,
 "nbformat_minor": 5
}
