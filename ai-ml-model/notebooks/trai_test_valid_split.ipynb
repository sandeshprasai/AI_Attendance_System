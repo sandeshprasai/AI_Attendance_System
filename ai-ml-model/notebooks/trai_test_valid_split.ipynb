{
 "cells": [
  {
   "cell_type": "code",
   "execution_count": null,
   "id": "466db764",
   "metadata": {},
   "outputs": [],
   "source": [
    "import os\n",
    "import random\n",
    "import shutil\n",
    "from tqdm import tqdm\n",
    "\n",
    "# Source dataset (folder-per-class)\n",
    "src_dir = r\"D:\\Final_Semester_Project\\AI_Attendance_System\\AI_And_ML_Model\\data\\normalized\"\n",
    "\n",
    "# Destination dataset (train/val/test)\n",
    "dst_dir = r\"D:\\Final_Semester_Project\\AI_Attendance_System\\AI_And_ML_Model\\datasets\"\n",
    "\n",
    "# Create output dirs\n",
    "for split in (\"train\", \"val\", \"test\"):\n",
    "    os.makedirs(os.path.join(dst_dir, split), exist_ok=True)\n",
    "\n",
    "random.seed(42)  # reproducibility\n",
    "\n",
    "classes = [c for c in os.listdir(src_dir) if os.path.isdir(os.path.join(src_dir, c))]\n",
    "\n",
    "for cls in tqdm(classes, desc=\"Splitting dataset\", unit=\"class\"):\n",
    "    cls_path = os.path.join(src_dir, cls)\n",
    "\n",
    "    # Get list of images\n",
    "    imgs = [f for f in os.listdir(cls_path) if os.path.isfile(os.path.join(cls_path, f))]\n",
    "    imgs.sort()  # keep order consistent\n",
    "    if len(imgs) < 70:\n",
    "        tqdm.write(f\"Skipping {cls} (only {len(imgs)} images)\")\n",
    "        continue\n",
    "\n",
    "    # Pick first 70 only\n",
    "    imgs = imgs[:70]\n",
    "    random.shuffle(imgs)\n",
    "\n",
    "    train_imgs = imgs[:56]\n",
    "    val_imgs   = imgs[56:63]\n",
    "    test_imgs  = imgs[63:70]\n",
    "\n",
    "    splits = {\"train\": train_imgs, \"val\": val_imgs, \"test\": test_imgs}\n",
    "\n",
    "    # Copy files\n",
    "    for split, files in splits.items():\n",
    "        out_cls = os.path.join(dst_dir, split, cls)\n",
    "        os.makedirs(out_cls, exist_ok=True)\n",
    "        for f in files:\n",
    "            shutil.copy(os.path.join(cls_path, f), os.path.join(out_cls, f))\n",
    "\n",
    "print(\"✅ Dataset split completed.\")\n"
   ]
  }
 ],
 "metadata": {
  "kernelspec": {
   "display_name": "Python 3",
   "language": "python",
   "name": "python3"
  },
  "language_info": {
   "name": "python",
   "version": "3.10.0"
  }
 },
 "nbformat": 4,
 "nbformat_minor": 5
}
