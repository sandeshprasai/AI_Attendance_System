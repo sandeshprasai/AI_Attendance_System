{
 "cells": [
  {
   "cell_type": "code",
   "execution_count": 1,
   "id": "21bf96ab",
   "metadata": {},
   "outputs": [
    {
     "name": "stderr",
     "output_type": "stream",
     "text": [
      "Normalizing images: 100%|██████████| 5281/5281 [01:00<00:00, 87.99image/s] \n"
     ]
    }
   ],
   "source": [
    "import cv2\n",
    "import numpy as np\n",
    "import os\n",
    "from pathlib import Path\n",
    "from tqdm import tqdm\n",
    "\n",
    "# Base directories\n",
    "base_dir = r\"D:\\Final_Semester_Project\\AI_Attendance_System\\AI_And_ML_Model\\data\"\n",
    "input_dir = os.path.join(base_dir, \"processed\")\n",
    "output_dir = os.path.join(base_dir, \"normalized\")\n",
    "\n",
    "# Create output base directory if not exists\n",
    "os.makedirs(output_dir, exist_ok=True)\n",
    "\n",
    "# Valid image extensions\n",
    "valid_ext = [\".jpg\", \".jpeg\", \".png\", \".bmp\", \".tiff\"]\n",
    "\n",
    "def normalize_image(img):\n",
    "    \"\"\"Normalize image pixels to range [0,1]\"\"\"\n",
    "    img_float = img.astype(np.float32)\n",
    "    normalized = (img_float - img_float.min()) / (img_float.max() - img_float.min() + 1e-8)\n",
    "    return normalized\n",
    "\n",
    "def save_normalized_image(image, path, original_extension):\n",
    "    \"\"\"Save normalized image with original extension\"\"\"\n",
    "    if original_extension.lower() in ['.jpg', '.jpeg']:\n",
    "        # For JPEG, scale back to 0-255 range and save as uint8\n",
    "        image_uint8 = (image * 255).astype(np.uint8)\n",
    "        cv2.imwrite(path, image_uint8, [cv2.IMWRITE_JPEG_QUALITY, 95])\n",
    "    elif original_extension.lower() in ['.png']:\n",
    "        # For PNG, we can save as 16-bit to preserve precision\n",
    "        image_uint16 = (image * 65535).astype(np.uint16)\n",
    "        cv2.imwrite(path, image_uint16)\n",
    "    elif original_extension.lower() in ['.bmp']:\n",
    "        # For BMP, scale back to 0-255 range\n",
    "        image_uint8 = (image * 255).astype(np.uint8)\n",
    "        cv2.imwrite(path, image_uint8)\n",
    "    elif original_extension.lower() in ['.tiff', '.tif']:\n",
    "        # For TIFF, we can save as float32 directly\n",
    "        cv2.imwrite(path, image.astype(np.float32))\n",
    "    else:\n",
    "        # Default: save as PNG\n",
    "        image_uint16 = (image * 65535).astype(np.uint16)\n",
    "        cv2.imwrite(path, image_uint16)\n",
    "\n",
    "# Collect all image paths\n",
    "all_images = []\n",
    "for root, _, files in os.walk(input_dir):\n",
    "    for file in files:\n",
    "        file_ext = Path(file).suffix.lower()\n",
    "        if file_ext in valid_ext:\n",
    "            all_images.append((os.path.join(root, file), file_ext))\n",
    "\n",
    "# Process images with progress bar\n",
    "for input_path, original_ext in tqdm(all_images, desc=\"Normalizing images\", unit=\"image\"):\n",
    "    # Read image\n",
    "    image = cv2.imread(input_path, cv2.IMREAD_UNCHANGED)\n",
    "    if image is None:\n",
    "        continue\n",
    "    \n",
    "    # Normalize\n",
    "    normalized_image = normalize_image(image)\n",
    "    \n",
    "    # Build output path (preserve original extension)\n",
    "    relative_path = os.path.relpath(os.path.dirname(input_path), input_dir)\n",
    "    output_subdir = os.path.join(output_dir, relative_path)\n",
    "    os.makedirs(output_subdir, exist_ok=True)\n",
    "    \n",
    "    output_file = Path(input_path).stem + original_ext\n",
    "    output_path = os.path.join(output_subdir, output_file)\n",
    "    \n",
    "    # Save normalized image with original extension\n",
    "    save_normalized_image(normalized_image, output_path, original_ext)"
   ]
  },
  {
   "cell_type": "code",
   "execution_count": null,
   "id": "862c15c1",
   "metadata": {},
   "outputs": [],
   "source": []
  }
 ],
 "metadata": {
  "kernelspec": {
   "display_name": "Python 3",
   "language": "python",
   "name": "python3"
  },
  "language_info": {
   "codemirror_mode": {
    "name": "ipython",
    "version": 3
   },
   "file_extension": ".py",
   "mimetype": "text/x-python",
   "name": "python",
   "nbconvert_exporter": "python",
   "pygments_lexer": "ipython3",
   "version": "3.10.0"
  }
 },
 "nbformat": 4,
 "nbformat_minor": 5
}
