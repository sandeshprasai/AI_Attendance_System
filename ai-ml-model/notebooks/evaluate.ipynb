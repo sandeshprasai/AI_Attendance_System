{
 "cells": [
  {
   "cell_type": "code",
   "execution_count": null,
   "id": "9abce7f5",
   "metadata": {},
   "outputs": [],
   "source": [
    "import tensorflow as tf\n",
    "from tensorflow.keras.callbacks import Callback\n",
    "import numpy as np\n",
    "\n",
    "class PeriodicEvaluation(Callback):\n",
    "    def __init__(self, test_gen, eval_every=5):\n",
    "        super().__init__()\n",
    "        self.test_gen = test_gen\n",
    "        self.eval_every = eval_every\n",
    "        self.test_accuracies = []\n",
    "        self.test_losses = []\n",
    "    \n",
    "    def on_epoch_end(self, epoch, logs=None):\n",
    "        if (epoch + 1) % self.eval_every == 0:\n",
    "            # Evaluate on test set\n",
    "            test_loss, test_acc = self.model.evaluate(self.test_gen, verbose=0)\n",
    "            self.test_accuracies.append(test_acc)\n",
    "            self.test_losses.append(test_loss)\n",
    "            \n",
    "            print(f\"\\n🎯 Epoch {epoch+1} - Test Accuracy: {test_acc:.4f}, Test Loss: {test_loss:.4f}\")\n",
    "            \n",
    "            # Also compare with validation performance\n",
    "            val_acc = logs.get('val_accuracy', 0)\n",
    "            generalization_gap = logs.get('accuracy', 0) - val_acc\n",
    "            print(f\"📊 Generalization Gap (Train-Val): {generalization_gap:.4f}\")\n",
    "            print(f\"📊 Train-Val-Test: {logs.get('accuracy', 0):.4f} | {val_acc:.4f} | {test_acc:.4f}\")\n",
    "\n",
    "# Add to your callbacks\n",
    "periodic_eval = PeriodicEvaluation(test_gen, eval_every=3)  # Evaluate every 3 epochs\n",
    "\n",
    "callbacks = [early_stop, reduce_lr, checkpoint, periodic_eval]"
   ]
  }
 ],
 "metadata": {
  "language_info": {
   "name": "python"
  }
 },
 "nbformat": 4,
 "nbformat_minor": 5
}
