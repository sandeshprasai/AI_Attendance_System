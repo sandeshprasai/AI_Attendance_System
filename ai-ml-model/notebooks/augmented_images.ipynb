{
 "cells": [
  {
   "cell_type": "code",
   "execution_count": 8,
   "id": "a47fe11c",
   "metadata": {},
   "outputs": [
    {
     "name": "stderr",
     "output_type": "stream",
     "text": [
      "Total Progress: 100%|██████████| 3080/3080 [00:43<00:00, 70.09it/s]"
     ]
    },
    {
     "name": "stdout",
     "output_type": "stream",
     "text": [
      "All images augmented with 9 variations each, and originals saved!\n"
     ]
    },
    {
     "name": "stderr",
     "output_type": "stream",
     "text": [
      "\n"
     ]
    }
   ],
   "source": [
    "import os\n",
    "import cv2\n",
    "import numpy as np\n",
    "from imgaug import augmenters as iaa\n",
    "from tqdm import tqdm\n",
    "\n",
    "# Paths\n",
    "dataset_dir = r\"D:\\Final_Semester_Project\\AI_Attendance_System\\AI_And_ML_Model\\datasets\\train\"\n",
    "output_dir = r\"D:\\Final_Semester_Project\\AI_Attendance_System\\AI_And_ML_Model\\datasets\\train_augmented\"\n",
    "os.makedirs(output_dir, exist_ok=True)\n",
    "\n",
    "# Define augmentation operations\n",
    "flip = iaa.Fliplr(1.0)\n",
    "rotate1 = iaa.Affine(rotate=15)\n",
    "rotate2 = iaa.Affine(rotate=-15)\n",
    "crop_zoom1 = iaa.Sequential([iaa.Crop(percent=(0, 0.1)), iaa.Affine(scale=(1.05, 1.1))])\n",
    "crop_zoom2 = iaa.Sequential([iaa.Crop(percent=(0, 0.1)), iaa.Affine(scale=(0.9, 0.95))])\n",
    "shift1 = iaa.Affine(translate_percent={\"x\": 0.1, \"y\": 0.1})\n",
    "shift2 = iaa.Affine(translate_percent={\"x\": -0.1, \"y\": -0.1})\n",
    "brightness = iaa.AddToBrightness((-30, 30))\n",
    "contrast = iaa.LinearContrast((0.7, 1.3))\n",
    "\n",
    "augmentations = [flip, rotate1, rotate2, crop_zoom1, crop_zoom2, shift1, shift2, brightness, contrast]\n",
    "\n",
    "# Count total images for global progress bar\n",
    "total_images = sum([len(files) for _, _, files in os.walk(dataset_dir)])\n",
    "\n",
    "# Global progress bar\n",
    "with tqdm(total=total_images, desc=\"Total Progress\") as pbar_total:\n",
    "    for class_name in os.listdir(dataset_dir):\n",
    "        class_path = os.path.join(dataset_dir, class_name)\n",
    "        if not os.path.isdir(class_path):\n",
    "            continue\n",
    "\n",
    "        # Create output folder\n",
    "        output_class_path = os.path.join(output_dir, class_name)\n",
    "        os.makedirs(output_class_path, exist_ok=True)\n",
    "\n",
    "        # Loop through images\n",
    "        for img_name in os.listdir(class_path):\n",
    "            img_path = os.path.join(class_path, img_name)\n",
    "            image = cv2.imread(img_path)\n",
    "            if image is None:\n",
    "                pbar_total.update(1)\n",
    "                continue\n",
    "            image_rgb = cv2.cvtColor(image, cv2.COLOR_BGR2RGB)\n",
    "\n",
    "            # Save original image\n",
    "            cv2.imwrite(os.path.join(output_class_path, img_name), image)\n",
    "\n",
    "            # Apply each augmentation\n",
    "            for idx, aug in enumerate(augmentations):\n",
    "                aug_img = aug(image=image_rgb)\n",
    "                aug_img_bgr = cv2.cvtColor(aug_img, cv2.COLOR_RGB2BGR)\n",
    "                aug_img_name = f\"{os.path.splitext(img_name)[0]}_aug{idx+1}.jpg\"\n",
    "                cv2.imwrite(os.path.join(output_class_path, aug_img_name), aug_img_bgr)\n",
    "\n",
    "            pbar_total.update(1)\n",
    "\n",
    "print(\"All images augmented with 9 variations each, and originals saved!\")\n"
   ]
  }
 ],
 "metadata": {
  "kernelspec": {
   "display_name": "Python 3",
   "language": "python",
   "name": "python3"
  },
  "language_info": {
   "codemirror_mode": {
    "name": "ipython",
    "version": 3
   },
   "file_extension": ".py",
   "mimetype": "text/x-python",
   "name": "python",
   "nbconvert_exporter": "python",
   "pygments_lexer": "ipython3",
   "version": "3.10.0"
  }
 },
 "nbformat": 4,
 "nbformat_minor": 5
}
