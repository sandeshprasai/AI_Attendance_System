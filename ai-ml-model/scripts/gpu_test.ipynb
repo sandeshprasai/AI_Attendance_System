{
 "cells": [
  {
   "cell_type": "code",
   "execution_count": null,
   "id": "a3bdd345",
   "metadata": {},
   "outputs": [],
   "source": [
    "\n",
    "import tensorflow as tf\n",
    "def check_gpu_setup():\n",
    "    print(\"=== TensorFlow GPU Information ===\")\n",
    "    print(f\"TensorFlow Version: {tf.__version__}\")\n",
    "    print(f\"CUDA Available: {tf.test.is_built_with_cuda()}\")\n",
    "    \n",
    "    # List physical devices\n",
    "    physical_devices = tf.config.list_physical_devices()\n",
    "    print(\"\\nPhysical devices:\")\n",
    "    for device in physical_devices:\n",
    "        print(f\"  {device.device_type}: {device.name}\")\n",
    "    \n",
    "    # List logical devices\n",
    "    logical_devices = tf.config.list_logical_devices()\n",
    "    print(\"\\nLogical devices:\")\n",
    "    for device in logical_devices:\n",
    "        print(f\"  {device.device_type}: {device.name}\")\n",
    "    \n",
    "    # GPU details\n",
    "    gpus = tf.config.list_physical_devices('GPU')\n",
    "    if gpus:\n",
    "        print(f\"\\nNumber of GPUs available: {len(gpus)}\")\n",
    "        for i, gpu in enumerate(gpus):\n",
    "            print(f\"GPU {i}: {gpu}\")\n",
    "            try:\n",
    "                details = tf.config.experimental.get_device_details(gpu)\n",
    "                print(f\"  Device details: {details}\")\n",
    "            except:\n",
    "                print(\"  Could not retrieve device details\")\n",
    "        \n",
    "        # Test GPU performance\n",
    "        print(\"\\n=== GPU Performance Test ===\")\n",
    "        with tf.device('/GPU:0'):\n",
    "            # Create some tensors and perform a simple operation\n",
    "            a = tf.constant([[1.0, 2.0, 3.0], [4.0, 5.0, 6.0]])\n",
    "            b = tf.constant([[1.0, 1.0], [2.0, 2.0], [3.0, 3.0]])\n",
    "            c = tf.matmul(a, b)\n",
    "            print(f\"Matrix multiplication result shape: {c.shape}\")\n",
    "            print(\"GPU test completed successfully!\")\n",
    "    else:\n",
    "        print(\"No GPUs found. Using CPU.\")\n",
    "\n",
    "if __name__ == \"__main__\":\n",
    "    check_gpu_setup()"
   ]
  },
  {
   "cell_type": "code",
   "execution_count": null,
   "id": "b25c4f06",
   "metadata": {},
   "outputs": [],
   "source": []
  }
 ],
 "metadata": {
  "language_info": {
   "name": "python"
  }
 },
 "nbformat": 4,
 "nbformat_minor": 5
}
