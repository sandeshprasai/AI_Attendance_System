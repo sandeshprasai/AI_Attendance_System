{
 "cells": [
  {
   "cell_type": "code",
   "execution_count": 3,
   "id": "18952885",
   "metadata": {},
   "outputs": [
    {
     "name": "stderr",
     "output_type": "stream",
     "text": [
      "Resizing images: 100%|██████████| 5290/5290 [00:55<00:00, 95.12image/s] "
     ]
    },
    {
     "name": "stdout",
     "output_type": "stream",
     "text": [
      "\n",
      "✅ Processed 5290 images. All resized to 224x224 and saved in: D:\\Final_Semester_Project\\AI_Attendance_System\\AI_And_ML_Model\\data\\processed\n"
     ]
    },
    {
     "name": "stderr",
     "output_type": "stream",
     "text": [
      "\n"
     ]
    }
   ],
   "source": [
    "import os\n",
    "from PIL import Image\n",
    "from tqdm import tqdm  # progress bar\n",
    "\n",
    "# Input (original faces) and output (resized) directories\n",
    "input_dir = r\"D:\\Final_Semester_Project\\AI_Attendance_System\\AI_And_ML_Model\\data\\faces\"\n",
    "output_dir = r\"D:\\Final_Semester_Project\\AI_Attendance_System\\AI_And_ML_Model\\data\\processed\"\n",
    "\n",
    "# Create output directory if not exists\n",
    "os.makedirs(output_dir, exist_ok=True)\n",
    "\n",
    "# Target size\n",
    "target_size = (224, 224)\n",
    "\n",
    "# Collect all image files first\n",
    "image_files = []\n",
    "for root, dirs, files in os.walk(input_dir):\n",
    "    for file in files:\n",
    "        if file.lower().endswith(('.png', '.jpg', '.jpeg', '.bmp', '.tiff', '.webp')):\n",
    "            image_files.append(os.path.join(root, file))\n",
    "\n",
    "# Counter for processed images\n",
    "processed_count = 0\n",
    "\n",
    "# Process images with progress bar\n",
    "for img_path in tqdm(image_files, desc=\"Resizing images\", unit=\"image\"):\n",
    "    try:\n",
    "        img = Image.open(img_path).convert(\"RGB\")\n",
    "\n",
    "        # Resize image\n",
    "        img_resized = img.resize(target_size, Image.LANCZOS)\n",
    "\n",
    "        # Maintain same folder structure in output\n",
    "        rel_path = os.path.relpath(os.path.dirname(img_path), input_dir)\n",
    "        save_folder = os.path.join(output_dir, rel_path)\n",
    "        os.makedirs(save_folder, exist_ok=True)\n",
    "\n",
    "        # Save resized image\n",
    "        save_path = os.path.join(save_folder, os.path.basename(img_path))\n",
    "        img_resized.save(save_path)\n",
    "\n",
    "        processed_count += 1\n",
    "\n",
    "    except Exception as e:\n",
    "        tqdm.write(f\"❌ Error processing {img_path}: {e}\")\n",
    "\n",
    "print(f\"\\n✅ Processed {processed_count} images. All resized to 224x224 and saved in: {output_dir}\")\n"
   ]
  }
 ],
 "metadata": {
  "kernelspec": {
   "display_name": "base",
   "language": "python",
   "name": "python3"
  },
  "language_info": {
   "codemirror_mode": {
    "name": "ipython",
    "version": 3
   },
   "file_extension": ".py",
   "mimetype": "text/x-python",
   "name": "python",
   "nbconvert_exporter": "python",
   "pygments_lexer": "ipython3",
   "version": "3.13.5"
  }
 },
 "nbformat": 4,
 "nbformat_minor": 5
}
