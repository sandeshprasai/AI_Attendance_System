{
 "cells": [
  {
   "cell_type": "code",
   "execution_count": 1,
   "id": "8600e17d",
   "metadata": {},
   "outputs": [
    {
     "name": "stdout",
     "output_type": "stream",
     "text": [
      "✅ Folder structure replicated successfully!\n"
     ]
    }
   ],
   "source": [
    "import os\n",
    "import shutil\n",
    "\n",
    "# Source and destination paths\n",
    "src_dir = r\"D:\\Final_Semester_Project\\AI_Attendance_System\\AI_And_ML_Model\\data\\normalized\"\n",
    "dst_dir = r\"D:\\Final_Semester_Project\\AI_Attendance_System\\AI_And_ML_Model\\datasets\\train\"\n",
    "\n",
    "# Walk through the source directory\n",
    "for root, dirs, files in os.walk(src_dir):\n",
    "    # Figure out the relative path from source\n",
    "    rel_path = os.path.relpath(root, src_dir)\n",
    "    \n",
    "    # Construct destination path\n",
    "    dst_path = os.path.join(dst_dir, rel_path)\n",
    "    \n",
    "    # Create directory in destination\n",
    "    os.makedirs(dst_path, exist_ok=True)\n",
    "\n",
    "print(\"✅ Folder structure replicated successfully!\")\n"
   ]
  },
  {
   "cell_type": "code",
   "execution_count": null,
   "id": "98ede542",
   "metadata": {},
   "outputs": [],
   "source": []
  }
 ],
 "metadata": {
  "kernelspec": {
   "display_name": "base",
   "language": "python",
   "name": "python3"
  },
  "language_info": {
   "codemirror_mode": {
    "name": "ipython",
    "version": 3
   },
   "file_extension": ".py",
   "mimetype": "text/x-python",
   "name": "python",
   "nbconvert_exporter": "python",
   "pygments_lexer": "ipython3",
   "version": "3.13.5"
  }
 },
 "nbformat": 4,
 "nbformat_minor": 5
}
